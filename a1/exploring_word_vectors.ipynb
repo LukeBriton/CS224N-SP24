{
 "cells": [
  {
   "cell_type": "markdown",
   "metadata": {
    "id": "3HqK14JLSStR"
   },
   "source": [
    "# CS224N Assignment 1: Exploring Word Vectors (25 Points)\n",
    "### <font color='blue'> Due 4:30pm, Tue April 9th 2024</font>\n",
    "\n",
    "Welcome to CS224N! \n",
    "\n",
    "Before you start, make sure you **read the README.md** in the same directory as this notebook for important setup information. You need to install some Python libraries before you can successfully do this assignment. A lot of code is provided in this notebook, and we highly encourage you to read and understand it as part of the learning :)\n",
    "\n",
    "If you aren't super familiar with Python, Numpy, or Matplotlib, we recommend you check out the review session on Friday. The session will be recorded and the material will be made available on our [website](http://web.stanford.edu/class/cs224n/index.html#schedule). The CS231N Python/Numpy [tutorial](https://cs231n.github.io/python-numpy-tutorial/) is also a great resource.\n",
    "\n",
    "\n",
    "**Assignment Notes:** Please make sure to save the notebook as you go along. Submission Instructions are located at the bottom of the notebook."
   ]
  },
  {
   "cell_type": "code",
   "execution_count": 1,
   "metadata": {
    "ExecuteTime": {
     "end_time": "2024-03-27T08:04:19.343709Z",
     "start_time": "2024-03-27T08:04:15.222676Z"
    },
    "colab": {
     "base_uri": "https://localhost:8080/"
    },
    "id": "8AGQxROrSStf",
    "outputId": "45390a52-8c82-466d-dcf3-d5b355f14aa4"
   },
   "outputs": [],
   "source": [
    "# All Import Statements Defined Here\n",
    "# Note: Do not add to this list.\n",
    "# ----------------\n",
    "\n",
    "import sys\n",
    "assert sys.version_info[0] == 3\n",
    "assert sys.version_info[1] >= 8\n",
    "\n",
    "from platform import python_version\n",
    "assert int(python_version().split(\".\")[1]) >= 5, \"Please upgrade your Python version following the instructions in \\\n",
    "    the README.md file found in the same directory as this notebook. Your Python version is \" + python_version()\n",
    "\n",
    "from gensim.models import KeyedVectors\n",
    "from gensim.test.utils import datapath\n",
    "import pprint\n",
    "import matplotlib.pyplot as plt\n",
    "plt.rcParams['figure.figsize'] = [10, 5]\n",
    "\n",
    "from datasets import load_dataset\n",
    "imdb_dataset = load_dataset(\"stanfordnlp/imdb\")\n",
    "\n",
    "import re\n",
    "import numpy as np\n",
    "import random\n",
    "import scipy as sp\n",
    "from sklearn.decomposition import TruncatedSVD\n",
    "from sklearn.decomposition import PCA\n",
    "\n",
    "START_TOKEN = '<START>'\n",
    "END_TOKEN = '<END>'\n",
    "NUM_SAMPLES = 150\n",
    "\n",
    "np.random.seed(0)\n",
    "random.seed(0)\n",
    "# ----------------"
   ]
  },
  {
   "cell_type": "markdown",
   "metadata": {
    "id": "SICd5IedSSto"
   },
   "source": [
    "## Word Vectors\n",
    "\n",
    "Word Vectors are often used as a fundamental component for downstream NLP tasks, e.g. question answering, text generation, translation, etc., so it is important to build some intuitions as to their strengths and weaknesses. Here, you will explore two types of word vectors: those derived from *co-occurrence matrices*, and those derived via *GloVe*. \n",
    "\n",
    "**Note on Terminology:** The terms \"word vectors\" and \"word embeddings\" are often used interchangeably. The term \"embedding\" refers to the fact that we are encoding aspects of a word's meaning in a lower dimensional space. As [Wikipedia](https://en.wikipedia.org/wiki/Word_embedding) states, \"*conceptually it involves a mathematical embedding from a space with one dimension per word to a continuous vector space with a much lower dimension*\"."
   ]
  },
  {
   "cell_type": "markdown",
   "metadata": {
    "id": "6Eug6AVrSStr"
   },
   "source": [
    "## Part 1: Count-Based Word Vectors (10 points)\n",
    "\n",
    "Most word vector models start from the following idea:\n",
    "\n",
    "*You shall know a word by the company it keeps ([Firth, J. R. 1957:11](https://en.wikipedia.org/wiki/John_Rupert_Firth))*\n",
    "\n",
    "Many word vector implementations are driven by the idea that similar words, i.e., (near) synonyms, will be used in similar contexts. As a result, similar words will often be spoken or written along with a shared subset of words, i.e., contexts. By examining these contexts, we can try to develop embeddings for our words. With this intuition in mind, many \"old school\" approaches to constructing word vectors relied on word counts. Here we elaborate upon one of those strategies, *co-occurrence matrices* (for more information, see [here](https://web.stanford.edu/~jurafsky/slp3/6.pdf) or [here](https://web.archive.org/web/20190530091127/https://medium.com/data-science-group-iitr/word-embedding-2d05d270b285))."
   ]
  },
  {
   "cell_type": "markdown",
   "metadata": {
    "id": "L6uQ9-DVSSts"
   },
   "source": [
    "### Co-Occurrence\n",
    "\n",
    "A co-occurrence matrix counts how often things co-occur in some environment. Given some word $w_i$ occurring in the document, we consider the *context window* surrounding $w_i$. Supposing our fixed window size is $n$, then this is the $n$ preceding and $n$ subsequent words in that document, i.e. words $w_{i-n} \\dots w_{i-1}$ and $w_{i+1} \\dots w_{i+n}$. We build a *co-occurrence matrix* $M$, which is a symmetric word-by-word matrix in which $M_{ij}$ is the number of times $w_j$ appears inside $w_i$'s window among all documents.\n",
    "\n",
    "**Example: Co-Occurrence with Fixed Window of n=1**:\n",
    "\n",
    "Document 1: \"all that glitters is not gold\"\n",
    "\n",
    "Document 2: \"all is well that ends well\"\n",
    "\n",
    "\n",
    "|     *    | `<START>` | all | that | glitters | is   | not  | gold  | well | ends | `<END>` |\n",
    "|----------|-------|-----|------|----------|------|------|-------|------|------|-----|\n",
    "| `<START>`    | 0     | 2   | 0    | 0        | 0    | 0    | 0     | 0    | 0    | 0   |\n",
    "| all      | 2     | 0   | 1    | 0        | 1    | 0    | 0     | 0    | 0    | 0   |\n",
    "| that     | 0     | 1   | 0    | 1        | 0    | 0    | 0     | 1    | 1    | 0   |\n",
    "| glitters | 0     | 0   | 1    | 0        | 1    | 0    | 0     | 0    | 0    | 0   |\n",
    "| is       | 0     | 1   | 0    | 1        | 0    | 1    | 0     | 1    | 0    | 0   |\n",
    "| not      | 0     | 0   | 0    | 0        | 1    | 0    | 1     | 0    | 0    | 0   |\n",
    "| gold     | 0     | 0   | 0    | 0        | 0    | 1    | 0     | 0    | 0    | 1   |\n",
    "| well     | 0     | 0   | 1    | 0        | 1    | 0    | 0     | 0    | 1    | 1   |\n",
    "| ends     | 0     | 0   | 1    | 0        | 0    | 0    | 0     | 1    | 0    | 0   |\n",
    "| `<END>`      | 0     | 0   | 0    | 0        | 0    | 0    | 1     | 1    | 0    | 0   |\n",
    "\n",
    "In NLP, we commonly use `<START>` and `<END>` tokens to mark the beginning and end of sentences, paragraphs, or documents. These tokens are included in co-occurrence counts, encapsulating each document, for example: \"`<START>` All that glitters is not gold `<END>`\".\n",
    "\n",
    "The matrix rows (or columns) provide word vectors based on word-word co-occurrence, but they can be large. To reduce dimensionality, we employ Singular Value Decomposition (SVD), akin to PCA, selecting the top $k$ principal components. The SVD process decomposes the co-occurrence matrix $A$ into singular values in the diagonal $S$ matrix and new, shorter word vectors in $U_k$.\n",
    "\n",
    "This dimensionality reduction maintains semantic relationships; for instance, *doctor* and *hospital* will be closer than *doctor* and *dog*.\n",
    "\n",
    "For those unfamiliar with eigenvalues and SVD, a beginner-friendly introduction to SVD is available [here](https://davetang.org/file/Singular_Value_Decomposition_Tutorial.pdf). Additional resources for in-depth understanding include lectures [7](https://web.stanford.edu/class/cs168/l/l7.pdf), [8](http://theory.stanford.edu/~tim/s15/l/l8.pdf), and [9](https://web.stanford.edu/class/cs168/l/l9.pdf) of CS168, providing high-level treatment of these algorithms. For practical implementation, utilizing pre-programmed functions from Python packages like numpy, scipy, or sklearn is recommended. While applying full SVD to large corpora can be memory-intensive, scalable techniques such as Truncated SVD exist for extracting the top $k$ vector components efficiently."
   ]
  },
  {
   "cell_type": "markdown",
   "metadata": {
    "id": "7IKeK4xtSStv"
   },
   "source": [
    "### Plotting Co-Occurrence Word Embeddings\n",
    "\n",
    "Here, we will be using the Large Movie Review Dataset. This is a dataset for binary sentiment classification containing substantially more data than previous benchmark datasets. We provide a set of 25,000 highly polar movie reviews for training, and 25,000 for testing. There is additional unlabeled data for use as well. We provide a `read_corpus` function below that pulls out the text of a movie review from the dataset. The function also adds `<START>` and `<END>` tokens to each of the documents, and lowercases words. You do **not** have to perform any other kind of pre-processing."
   ]
  },
  {
   "cell_type": "code",
   "execution_count": 2,
   "metadata": {
    "ExecuteTime": {
     "end_time": "2024-03-27T08:06:28.097673Z",
     "start_time": "2024-03-27T08:06:28.094138Z"
    },
    "id": "xwD2htUoSStw"
   },
   "outputs": [],
   "source": [
    "def read_corpus():\n",
    "    \"\"\" Read files from the Large Movie Review Dataset.\n",
    "        Params:\n",
    "            category (string): category name\n",
    "        Return:\n",
    "            list of lists, with words from each of the processed files\n",
    "    \"\"\"\n",
    "    files = imdb_dataset[\"train\"][\"text\"][:NUM_SAMPLES]\n",
    "    # str.lower()\n",
    "    # -> Return a copy of the string with all the cased characters [4] converted to lowercase.\n",
    "    # re.sub(pattern, repl, string, count=0, flags=0)\n",
    "    # -> Return the string obtained by replacing the leftmost non-overlapping occurrences of pattern in string\n",
    "    # -> by the replacement repl.\n",
    "    return [[START_TOKEN] + [re.sub(r'[^\\w]', '', w.lower()) for w in f.split(\" \")] + [END_TOKEN] for f in files]\n"
   ]
  },
  {
   "cell_type": "markdown",
   "metadata": {
    "id": "hVLquFhjSStx"
   },
   "source": [
    "Let's have a look what these documents are like…."
   ]
  },
  {
   "cell_type": "code",
   "execution_count": 3,
   "metadata": {
    "ExecuteTime": {
     "end_time": "2024-03-27T08:06:29.881790Z",
     "start_time": "2024-03-27T08:06:29.404708Z"
    },
    "colab": {
     "base_uri": "https://localhost:8080/"
    },
    "id": "mC7B9Cb-SSty",
    "outputId": "a1861c4f-723a-4d99-98d9-5f5db3a92e7a"
   },
   "outputs": [
    {
     "name": "stdout",
     "output_type": "stream",
     "text": [
      "[['<START>', 'i', 'rented', 'i', 'am', 'curiousyellow', 'from', 'my', 'video', 'store', 'because',\n",
      "  'of', 'all', 'the', 'controversy', 'that', 'surrounded', 'it', 'when', 'it', 'was', 'first',\n",
      "  'released', 'in', '1967', 'i', 'also', 'heard', 'that', 'at', 'first', 'it', 'was', 'seized',\n",
      "  'by', 'us', 'customs', 'if', 'it', 'ever', 'tried', 'to', 'enter', 'this', 'country', 'therefore',\n",
      "  'being', 'a', 'fan', 'of', 'films', 'considered', 'controversial', 'i', 'really', 'had', 'to',\n",
      "  'see', 'this', 'for', 'myselfbr', 'br', 'the', 'plot', 'is', 'centered', 'around', 'a', 'young',\n",
      "  'swedish', 'drama', 'student', 'named', 'lena', 'who', 'wants', 'to', 'learn', 'everything',\n",
      "  'she', 'can', 'about', 'life', 'in', 'particular', 'she', 'wants', 'to', 'focus', 'her',\n",
      "  'attentions', 'to', 'making', 'some', 'sort', 'of', 'documentary', 'on', 'what', 'the', 'average',\n",
      "  'swede', 'thought', 'about', 'certain', 'political', 'issues', 'such', 'as', 'the', 'vietnam',\n",
      "  'war', 'and', 'race', 'issues', 'in', 'the', 'united', 'states', 'in', 'between', 'asking',\n",
      "  'politicians', 'and', 'ordinary', 'denizens', 'of', 'stockholm', 'about', 'their', 'opinions',\n",
      "  'on', 'politics', 'she', 'has', 'sex', 'with', 'her', 'drama', 'teacher', 'classmates', 'and',\n",
      "  'married', 'menbr', 'br', 'what', 'kills', 'me', 'about', 'i', 'am', 'curiousyellow', 'is',\n",
      "  'that', '40', 'years', 'ago', 'this', 'was', 'considered', 'pornographic', 'really', 'the', 'sex',\n",
      "  'and', 'nudity', 'scenes', 'are', 'few', 'and', 'far', 'between', 'even', 'then', 'its', 'not',\n",
      "  'shot', 'like', 'some', 'cheaply', 'made', 'porno', 'while', 'my', 'countrymen', 'mind', 'find',\n",
      "  'it', 'shocking', 'in', 'reality', 'sex', 'and', 'nudity', 'are', 'a', 'major', 'staple', 'in',\n",
      "  'swedish', 'cinema', 'even', 'ingmar', 'bergman', 'arguably', 'their', 'answer', 'to', 'good',\n",
      "  'old', 'boy', 'john', 'ford', 'had', 'sex', 'scenes', 'in', 'his', 'filmsbr', 'br', 'i', 'do',\n",
      "  'commend', 'the', 'filmmakers', 'for', 'the', 'fact', 'that', 'any', 'sex', 'shown', 'in', 'the',\n",
      "  'film', 'is', 'shown', 'for', 'artistic', 'purposes', 'rather', 'than', 'just', 'to', 'shock',\n",
      "  'people', 'and', 'make', 'money', 'to', 'be', 'shown', 'in', 'pornographic', 'theaters', 'in',\n",
      "  'america', 'i', 'am', 'curiousyellow', 'is', 'a', 'good', 'film', 'for', 'anyone', 'wanting',\n",
      "  'to', 'study', 'the', 'meat', 'and', 'potatoes', 'no', 'pun', 'intended', 'of', 'swedish',\n",
      "  'cinema', 'but', 'really', 'this', 'film', 'doesnt', 'have', 'much', 'of', 'a', 'plot', '<END>'],\n",
      " ['<START>', 'i', 'am', 'curious', 'yellow', 'is', 'a', 'risible', 'and', 'pretentious', 'steaming',\n",
      "  'pile', 'it', 'doesnt', 'matter', 'what', 'ones', 'political', 'views', 'are', 'because', 'this',\n",
      "  'film', 'can', 'hardly', 'be', 'taken', 'seriously', 'on', 'any', 'level', 'as', 'for', 'the',\n",
      "  'claim', 'that', 'frontal', 'male', 'nudity', 'is', 'an', 'automatic', 'nc17', 'that', 'isnt',\n",
      "  'true', 'ive', 'seen', 'rrated', 'films', 'with', 'male', 'nudity', 'granted', 'they', 'only',\n",
      "  'offer', 'some', 'fleeting', 'views', 'but', 'where', 'are', 'the', 'rrated', 'films', 'with',\n",
      "  'gaping', 'vulvas', 'and', 'flapping', 'labia', 'nowhere', 'because', 'they', 'dont', 'exist',\n",
      "  'the', 'same', 'goes', 'for', 'those', 'crappy', 'cable', 'shows', 'schlongs', 'swinging', 'in',\n",
      "  'the', 'breeze', 'but', 'not', 'a', 'clitoris', 'in', 'sight', 'and', 'those', 'pretentious',\n",
      "  'indie', 'movies', 'like', 'the', 'brown', 'bunny', 'in', 'which', 'were', 'treated', 'to', 'the',\n",
      "  'site', 'of', 'vincent', 'gallos', 'throbbing', 'johnson', 'but', 'not', 'a', 'trace', 'of',\n",
      "  'pink', 'visible', 'on', 'chloe', 'sevigny', 'before', 'crying', 'or', 'implying',\n",
      "  'doublestandard', 'in', 'matters', 'of', 'nudity', 'the', 'mentally', 'obtuse', 'should', 'take',\n",
      "  'into', 'account', 'one', 'unavoidably', 'obvious', 'anatomical', 'difference', 'between', 'men',\n",
      "  'and', 'women', 'there', 'are', 'no', 'genitals', 'on', 'display', 'when', 'actresses', 'appears',\n",
      "  'nude', 'and', 'the', 'same', 'cannot', 'be', 'said', 'for', 'a', 'man', 'in', 'fact', 'you',\n",
      "  'generally', 'wont', 'see', 'female', 'genitals', 'in', 'an', 'american', 'film', 'in',\n",
      "  'anything', 'short', 'of', 'porn', 'or', 'explicit', 'erotica', 'this', 'alleged',\n",
      "  'doublestandard', 'is', 'less', 'a', 'double', 'standard', 'than', 'an', 'admittedly',\n",
      "  'depressing', 'ability', 'to', 'come', 'to', 'terms', 'culturally', 'with', 'the', 'insides',\n",
      "  'of', 'womens', 'bodies', '<END>'],\n",
      " ['<START>', 'if', 'only', 'to', 'avoid', 'making', 'this', 'type', 'of', 'film', 'in', 'the',\n",
      "  'future', 'this', 'film', 'is', 'interesting', 'as', 'an', 'experiment', 'but', 'tells', 'no',\n",
      "  'cogent', 'storybr', 'br', 'one', 'might', 'feel', 'virtuous', 'for', 'sitting', 'thru', 'it',\n",
      "  'because', 'it', 'touches', 'on', 'so', 'many', 'important', 'issues', 'but', 'it', 'does', 'so',\n",
      "  'without', 'any', 'discernable', 'motive', 'the', 'viewer', 'comes', 'away', 'with', 'no', 'new',\n",
      "  'perspectives', 'unless', 'one', 'comes', 'up', 'with', 'one', 'while', 'ones', 'mind', 'wanders',\n",
      "  'as', 'it', 'will', 'invariably', 'do', 'during', 'this', 'pointless', 'filmbr', 'br', 'one',\n",
      "  'might', 'better', 'spend', 'ones', 'time', 'staring', 'out', 'a', 'window', 'at', 'a', 'tree',\n",
      "  'growingbr', 'br', '', '<END>']]\n",
      "corpus size:  290\n"
     ]
    }
   ],
   "source": [
    "imdb_corpus = read_corpus()\n",
    "pprint.pprint(imdb_corpus[:3], compact=True, width=100)\n",
    "print(\"corpus size: \", len(imdb_corpus[0]))"
   ]
  },
  {
   "cell_type": "markdown",
   "metadata": {
    "id": "tfa216H1SSt0"
   },
   "source": [
    "### Question 1.1: Implement `distinct_words` [code] (2 points)\n",
    "\n",
    "Write a method to work out the distinct words (word types) that occur in the corpus.\n",
    "\n",
    "You can use `for` loops to process the input `corpus` (a list of list of strings), but try using Python list comprehensions (which are generally faster). In particular, [this](https://coderwall.com/p/rcmaea/flatten-a-list-of-lists-in-one-line-in-python) may be useful to flatten a list of lists. If you're not familiar with Python list comprehensions in general, here's [more information](https://python-3-patterns-idioms-test.readthedocs.io/en/latest/Comprehensions.html).\n",
    "\n",
    "Your returned `corpus_words` should be sorted. You can use python's `sorted` function for this.\n",
    "\n",
    "You may find it useful to use [Python sets](https://www.w3schools.com/python/python_sets.asp) to remove duplicate words."
   ]
  },
  {
   "cell_type": "code",
   "execution_count": 4,
   "metadata": {
    "id": "NjJABbVFSSt1"
   },
   "outputs": [],
   "source": [
    "def distinct_words(corpus):\n",
    "    \"\"\" Determine a list of distinct words for the corpus.\n",
    "        Params:\n",
    "            corpus (list of list of strings): corpus of documents\n",
    "        Return:\n",
    "            corpus_words (list of strings): sorted list of distinct words across the corpus\n",
    "            n_corpus_words (integer): number of distinct words across the corpus\n",
    "    \"\"\"\n",
    "    corpus_words = []\n",
    "    n_corpus_words = -1\n",
    "    \n",
    "    # ------------------\n",
    "    # Write your implementation here.\n",
    "    # 1. Dealing with upper cases is the job in read_corpus().\n",
    "    # 2. Corpus itself is a nested list which causes: `TypeError: unhashable type: 'list'`, so \"comprehension\" is a must\n",
    "    # -> comprehension: (programming) A compact syntax for generating a list in some functional programming languages.\n",
    "    corpus_words = [word for sublist in corpus for word in sublist]\n",
    "    # For descending sort, use `reverse = True`.\n",
    "    corpus_words = sorted(list(set(corpus_words)))\n",
    "    n_corpus_words = len(corpus_words)\n",
    "\n",
    "    # ------------------\n",
    "\n",
    "    return corpus_words, n_corpus_words"
   ]
  },
  {
   "cell_type": "code",
   "execution_count": 5,
   "metadata": {
    "colab": {
     "base_uri": "https://localhost:8080/"
    },
    "id": "iKfXBXySSSt3",
    "outputId": "8b49421a-1cff-4f10-fe4a-927f30570b59"
   },
   "outputs": [
    {
     "name": "stdout",
     "output_type": "stream",
     "text": [
      "--------------------------------------------------------------------------------\n",
      "Passed All Tests!\n",
      "--------------------------------------------------------------------------------\n"
     ]
    }
   ],
   "source": [
    "# ---------------------\n",
    "# Run this sanity check\n",
    "# Note that this not an exhaustive check for correctness.\n",
    "# ---------------------\n",
    "\n",
    "# Define toy corpus\n",
    "test_corpus = [\"{} All that glitters isn't gold {}\".format(START_TOKEN, END_TOKEN).split(\" \"), \"{} All's well that ends well {}\".format(START_TOKEN, END_TOKEN).split(\" \")]\n",
    "test_corpus_words, num_corpus_words = distinct_words(test_corpus)\n",
    "\n",
    "# Correct answers\n",
    "ans_test_corpus_words = sorted([START_TOKEN, \"All\", \"ends\", \"that\", \"gold\", \"All's\", \"glitters\", \"isn't\", \"well\", END_TOKEN])\n",
    "ans_num_corpus_words = len(ans_test_corpus_words)\n",
    "\n",
    "# Test correct number of words\n",
    "assert(num_corpus_words == ans_num_corpus_words), \"Incorrect number of distinct words. Correct: {}. Yours: {}\".format(ans_num_corpus_words, num_corpus_words)\n",
    "\n",
    "# Test correct words\n",
    "assert (test_corpus_words == ans_test_corpus_words), \"Incorrect corpus_words.\\nCorrect: {}\\nYours:   {}\".format(str(ans_test_corpus_words), str(test_corpus_words))\n",
    "\n",
    "# Print Success\n",
    "print (\"-\" * 80)\n",
    "print(\"Passed All Tests!\")\n",
    "print (\"-\" * 80)"
   ]
  },
  {
   "cell_type": "markdown",
   "metadata": {
    "id": "ymDFJn_lSSt5"
   },
   "source": [
    "### Question 1.2: Implement `compute_co_occurrence_matrix` [code] (3 points)\n",
    "\n",
    "Write a method that constructs a co-occurrence matrix for a certain window-size $n$ (with a default of 4), considering words $n$ before and $n$ after the word in the center of the window. Here, we start to use `numpy (np)` to represent vectors, matrices, and tensors. If you're not familiar with NumPy, there's a NumPy tutorial in the second half of this cs231n [Python NumPy tutorial](http://cs231n.github.io/python-numpy-tutorial/).\n"
   ]
  },
  {
   "cell_type": "code",
   "execution_count": 6,
   "metadata": {
    "id": "v8MIy3KDSSt6"
   },
   "outputs": [],
   "source": [
    "def compute_co_occurrence_matrix(corpus, window_size=4):\n",
    "    \"\"\" Compute co-occurrence matrix for the given corpus and window_size (default of 4).\n",
    "    \n",
    "        Note: Each word in a document should be at the center of a window. Words near edges will have a smaller\n",
    "              number of co-occurring words.\n",
    "              \n",
    "              For example, if we take the document \"<START> All that glitters is not gold <END>\" with window size of 4,\n",
    "              \"All\" will co-occur with \"<START>\", \"that\", \"glitters\", \"is\", and \"not\".\n",
    "    \n",
    "        Params:\n",
    "            corpus (list of list of strings): corpus of documents\n",
    "            window_size (int): size of context window\n",
    "        Return:\n",
    "            M (a symmetric numpy matrix of shape (number of unique words in the corpus , number of unique words in the corpus)): \n",
    "                Co-occurence matrix of word counts. \n",
    "                The ordering of the words in the rows/columns should be the same as the ordering of the words given by the distinct_words function.\n",
    "            word2ind (dict): dictionary that maps word to index (i.e. row/column number) for matrix M.\n",
    "    \"\"\"\n",
    "    words, n_words = distinct_words(corpus)\n",
    "    M = None\n",
    "    word2ind = {}\n",
    "    \n",
    "    # ------------------\n",
    "    # Write your implementation here.\n",
    "    # M = [ [0]*n_words for _ in range(n_words)]\n",
    "    # M should be a numpy.ndarray with a shape\n",
    "    M = np.zeros((n_words,n_words))\n",
    "    # map: word -> id\n",
    "    # word2ind = {word: words.index(word) for word in corpus}\n",
    "    # enumerate(Iterable) enables `start = 0` by default\n",
    "    word2ind = {word: id for id, word in enumerate(words)}\n",
    "    # corpus is a 2D list!!!\n",
    "    for sublist in corpus:\n",
    "        for pos, word in enumerate(sublist):\n",
    "            for i in range(max(-window_size + pos, 0), pos):\n",
    "                M[word2ind[word]][word2ind[sublist[i]]]+=1\n",
    "            # len(Sized) is O(1)\n",
    "            for j in range(pos + 1, min(window_size + pos + 1, len(sublist))):\n",
    "                M[word2ind[word]][word2ind[sublist[j]]]+=1\n",
    "    # print(M)\n",
    "    # ------------------\n",
    "\n",
    "    return M, word2ind"
   ]
  },
  {
   "cell_type": "code",
   "execution_count": 7,
   "metadata": {
    "colab": {
     "base_uri": "https://localhost:8080/"
    },
    "id": "u-6ID1qhSSt7",
    "outputId": "f4f1bccb-06a8-4bb6-ec80-f2b6201b2645"
   },
   "outputs": [
    {
     "name": "stdout",
     "output_type": "stream",
     "text": [
      "--------------------------------------------------------------------------------\n",
      "Passed All Tests!\n",
      "--------------------------------------------------------------------------------\n"
     ]
    }
   ],
   "source": [
    "# ---------------------\n",
    "# Run this sanity check\n",
    "# Note that this is not an exhaustive check for correctness.\n",
    "# ---------------------\n",
    "\n",
    "# Define toy corpus and get student's co-occurrence matrix\n",
    "test_corpus = [\"{} All that glitters isn't gold {}\".format(START_TOKEN, END_TOKEN).split(\" \"), \"{} All's well that ends well {}\".format(START_TOKEN, END_TOKEN).split(\" \")]\n",
    "M_test, word2ind_test = compute_co_occurrence_matrix(test_corpus, window_size=1)\n",
    "\n",
    "# Correct M and word2ind\n",
    "M_test_ans = np.array( \n",
    "    [[0., 0., 0., 0., 0., 0., 1., 0., 0., 1.,],\n",
    "     [0., 0., 1., 1., 0., 0., 0., 0., 0., 0.,],\n",
    "     [0., 1., 0., 0., 0., 0., 0., 0., 1., 0.,],\n",
    "     [0., 1., 0., 0., 0., 0., 0., 0., 0., 1.,],\n",
    "     [0., 0., 0., 0., 0., 0., 0., 0., 1., 1.,],\n",
    "     [0., 0., 0., 0., 0., 0., 0., 1., 1., 0.,],\n",
    "     [1., 0., 0., 0., 0., 0., 0., 1., 0., 0.,],\n",
    "     [0., 0., 0., 0., 0., 1., 1., 0., 0., 0.,],\n",
    "     [0., 0., 1., 0., 1., 1., 0., 0., 0., 1.,],\n",
    "     [1., 0., 0., 1., 1., 0., 0., 0., 1., 0.,]]\n",
    ")\n",
    "ans_test_corpus_words = sorted([START_TOKEN, \"All\", \"ends\", \"that\", \"gold\", \"All's\", \"glitters\", \"isn't\", \"well\", END_TOKEN])\n",
    "word2ind_ans = dict(zip(ans_test_corpus_words, range(len(ans_test_corpus_words))))\n",
    "\n",
    "# Test correct word2ind\n",
    "assert (word2ind_ans == word2ind_test), \"Your word2ind is incorrect:\\nCorrect: {}\\nYours: {}\".format(word2ind_ans, word2ind_test)\n",
    "\n",
    "# Test correct M shape\n",
    "assert (M_test.shape == M_test_ans.shape), \"M matrix has incorrect shape.\\nCorrect: {}\\nYours: {}\".format(M_test.shape, M_test_ans.shape)\n",
    "\n",
    "# Test correct M values\n",
    "for w1 in word2ind_ans.keys():\n",
    "    idx1 = word2ind_ans[w1]\n",
    "    for w2 in word2ind_ans.keys():\n",
    "        idx2 = word2ind_ans[w2]\n",
    "        student = M_test[idx1, idx2]\n",
    "        correct = M_test_ans[idx1, idx2]\n",
    "        if student != correct:\n",
    "            print(\"Correct M:\")\n",
    "            print(M_test_ans)\n",
    "            print(\"Your M: \")\n",
    "            print(M_test)\n",
    "            raise AssertionError(\"Incorrect count at index ({}, {})=({}, {}) in matrix M. Yours has {} but should have {}.\".format(idx1, idx2, w1, w2, student, correct))\n",
    "\n",
    "# Print Success\n",
    "print (\"-\" * 80)\n",
    "print(\"Passed All Tests!\")\n",
    "print (\"-\" * 80)"
   ]
  },
  {
   "cell_type": "markdown",
   "metadata": {
    "id": "K-nyJnAASSt9"
   },
   "source": [
    "### Question 1.3: Implement `reduce_to_k_dim` [code] (1 point)\n",
    "\n",
    "Construct a method that performs dimensionality reduction on the matrix to produce k-dimensional embeddings. Use SVD to take the top k components and produce a new matrix of k-dimensional embeddings. \n",
    "\n",
    "**Note:** All of numpy, scipy, and scikit-learn (`sklearn`) provide *some* implementation of SVD, but only scipy and sklearn provide an implementation of Truncated SVD, and only sklearn provides an efficient randomized algorithm for calculating large-scale Truncated SVD. So please use [sklearn.decomposition.TruncatedSVD](https://scikit-learn.org/stable/modules/generated/sklearn.decomposition.TruncatedSVD.html)."
   ]
  },
  {
   "cell_type": "code",
   "execution_count": 8,
   "metadata": {
    "id": "truGMjifSSt9"
   },
   "outputs": [],
   "source": [
    "def reduce_to_k_dim(M, k=2):\n",
    "    \"\"\" Reduce a co-occurence count matrix of dimensionality (num_corpus_words, num_corpus_words)\n",
    "        to a matrix of dimensionality (num_corpus_words, k) using the following SVD function from Scikit-Learn:\n",
    "            - http://scikit-learn.org/stable/modules/generated/sklearn.decomposition.TruncatedSVD.html\n",
    "    \n",
    "        Params:\n",
    "            M (numpy matrix of shape (number of unique words in the corpus , number of unique words in the corpus)): co-occurence matrix of word counts\n",
    "            k (int): embedding size of each word after dimension reduction\n",
    "        Return:\n",
    "            M_reduced (numpy matrix of shape (number of corpus words, k)): matrix of k-dimensioal word embeddings.\n",
    "                    In terms of the SVD from math class, this actually returns U * S\n",
    "    \"\"\"    \n",
    "    n_iters = 10    # Use this parameter in your call to `TruncatedSVD`\n",
    "    M_reduced = None\n",
    "    print(\"Running Truncated SVD over %i words...\" % (M.shape[0]))\n",
    "    \n",
    "    # ------------------\n",
    "    # Write your implementation here.\n",
    "    svd = TruncatedSVD(k, n_iter = n_iters)\n",
    "    M_reduced = svd.fit_transform(M)\n",
    "    \n",
    "    # ------------------\n",
    "\n",
    "    print(\"Done.\")\n",
    "    return M_reduced"
   ]
  },
  {
   "cell_type": "code",
   "execution_count": 9,
   "metadata": {
    "colab": {
     "base_uri": "https://localhost:8080/"
    },
    "id": "7pqKuqvhSSt-",
    "outputId": "7d147bd2-9916-4226-d936-43ce795006cb"
   },
   "outputs": [
    {
     "name": "stdout",
     "output_type": "stream",
     "text": [
      "Running Truncated SVD over 10 words...\n",
      "Done.\n",
      "--------------------------------------------------------------------------------\n",
      "Passed All Tests!\n",
      "--------------------------------------------------------------------------------\n"
     ]
    }
   ],
   "source": [
    "# ---------------------\n",
    "# Run this sanity check\n",
    "# Note that this is not an exhaustive check for correctness \n",
    "# In fact we only check that your M_reduced has the right dimensions.\n",
    "# ---------------------\n",
    "\n",
    "# Define toy corpus and run student code\n",
    "test_corpus = [\"{} All that glitters isn't gold {}\".format(START_TOKEN, END_TOKEN).split(\" \"), \"{} All's well that ends well {}\".format(START_TOKEN, END_TOKEN).split(\" \")]\n",
    "M_test, word2ind_test = compute_co_occurrence_matrix(test_corpus, window_size=1)\n",
    "M_test_reduced = reduce_to_k_dim(M_test, k=2)\n",
    "\n",
    "# Test proper dimensions\n",
    "assert (M_test_reduced.shape[0] == 10), \"M_reduced has {} rows; should have {}\".format(M_test_reduced.shape[0], 10)\n",
    "assert (M_test_reduced.shape[1] == 2), \"M_reduced has {} columns; should have {}\".format(M_test_reduced.shape[1], 2)\n",
    "\n",
    "# Print Success\n",
    "print (\"-\" * 80)\n",
    "print(\"Passed All Tests!\")\n",
    "print (\"-\" * 80)"
   ]
  },
  {
   "cell_type": "markdown",
   "metadata": {
    "id": "apZknsLoSSt_"
   },
   "source": [
    "### Question 1.4: Implement `plot_embeddings` [code] (1 point)\n",
    "\n",
    "Here you will write a function to plot a set of 2D vectors in 2D space. For graphs, we will use Matplotlib (`plt`).\n",
    "\n",
    "For this example, you may find it useful to adapt [this code](http://web.archive.org/web/20190924160434/https://www.pythonmembers.club/2018/05/08/matplotlib-scatter-plot-annotate-set-text-at-label-each-point/). In the future, a good way to make a plot is to look at [the Matplotlib gallery](https://matplotlib.org/gallery/index.html), find a plot that looks somewhat like what you want, and adapt the code they give."
   ]
  },
  {
   "cell_type": "code",
   "execution_count": 10,
   "metadata": {
    "id": "dDcCZE5lSSuA"
   },
   "outputs": [],
   "source": [
    "def plot_embeddings(M_reduced, word2ind, words):\n",
    "    \"\"\" Plot in a scatterplot the embeddings of the words specified in the list \"words\".\n",
    "        NOTE: do not plot all the words listed in M_reduced / word2ind.\n",
    "        Include a label next to each point.\n",
    "        \n",
    "        Params:\n",
    "            M_reduced (numpy matrix of shape (number of unique words in the corpus , 2)): matrix of 2-dimensioal word embeddings\n",
    "            word2ind (dict): dictionary that maps word to indices for matrix M\n",
    "            words (list of strings): words whose embeddings we want to visualize\n",
    "    \"\"\"\n",
    "\n",
    "    # ------------------\n",
    "    # Write your implementation here.\n",
    "    for word in words:\n",
    "        # Here \"words\" not necessarily equals to the one we got by distinct_words(corpus).\n",
    "        # Therefore we need to map word into index.\n",
    "        x = M_reduced[word2ind[word]][0]\n",
    "        y = M_reduced[word2ind[word]][1]\n",
    "        plt.scatter(x, y, marker='x', color='red')\n",
    "        plt.text(x, y, word, fontsize=9)\n",
    "    plt.show()\n",
    "    \n",
    "    # ------------------"
   ]
  },
  {
   "cell_type": "code",
   "execution_count": 11,
   "metadata": {
    "colab": {
     "base_uri": "https://localhost:8080/",
     "height": 372
    },
    "id": "gHxOMWPxSSuB",
    "outputId": "565711fc-02ea-43cb-daa5-8b8bb310cdda"
   },
   "outputs": [
    {
     "name": "stdout",
     "output_type": "stream",
     "text": [
      "--------------------------------------------------------------------------------\n",
      "Outputted Plot:\n"
     ]
    },
    {
     "data": {
      "image/png": "[encoded data removed]",
      "text/plain": [
       "<Figure size 1000x500 with 1 Axes>"
      ]
     },
     "metadata": {},
     "output_type": "display_data"
    },
    {
     "name": "stdout",
     "output_type": "stream",
     "text": [
      "--------------------------------------------------------------------------------\n"
     ]
    }
   ],
   "source": [
    "# ---------------------\n",
    "# Run this sanity check\n",
    "# Note that this is not an exhaustive check for correctness.\n",
    "# The plot produced should look like the included file question_1.4_test.png \n",
    "# ---------------------\n",
    "\n",
    "print (\"-\" * 80)\n",
    "print (\"Outputted Plot:\")\n",
    "\n",
    "M_reduced_plot_test = np.array([[1, 1], [-1, -1], [1, -1], [-1, 1], [0, 0]])\n",
    "word2ind_plot_test = {'test1': 0, 'test2': 1, 'test3': 2, 'test4': 3, 'test5': 4}\n",
    "words = ['test1', 'test2', 'test3', 'test4', 'test5']\n",
    "plot_embeddings(M_reduced_plot_test, word2ind_plot_test, words)\n",
    "\n",
    "print (\"-\" * 80)"
   ]
  },
  {
   "cell_type": "markdown",
   "metadata": {
    "id": "YpBzYs2hSSuC"
   },
   "source": [
    "### Question 1.5: Co-Occurrence Plot Analysis [written] (3 points)\n",
    "\n",
    "Now we will put together all the parts you have written! We will compute the co-occurrence matrix with fixed window of 4 (the default window size), over the Large Movie Review corpus. Then we will use TruncatedSVD to compute 2-dimensional embeddings of each word. TruncatedSVD returns U\\*S, so we need to normalize the returned vectors, so that all the vectors will appear around the unit circle (therefore closeness is directional closeness). **Note**: The line of code below that does the normalizing uses the NumPy concept of *broadcasting*. If you don't know about broadcasting, check out\n",
    "[Computation on Arrays: Broadcasting by Jake VanderPlas](https://jakevdp.github.io/PythonDataScienceHandbook/02.05-computation-on-arrays-broadcasting.html).\n",
    "\n",
    "Run the below cell to produce the plot. It can take up to a few minutes to run."
   ]
  },
  {
   "cell_type": "code",
   "execution_count": 12,
   "metadata": {
    "colab": {
     "base_uri": "https://localhost:8080/",
     "height": 355
    },
    "id": "7L1Uk50mSSuD",
    "outputId": "35ae3e41-07c8-421b-e75c-dcbeaa4fb015"
   },
   "outputs": [
    {
     "name": "stdout",
     "output_type": "stream",
     "text": [
      "Running Truncated SVD over 5880 words...\n",
      "Done.\n"
     ]
    },
    {
     "data": {
      "image/png": "[encoded data removed]",
      "text/plain": [
       "<Figure size 1000x500 with 1 Axes>"
      ]
     },
     "metadata": {},
     "output_type": "display_data"
    }
   ],
   "source": [
    "# -----------------------------\n",
    "# Run This Cell to Produce Your Plot\n",
    "# ------------------------------\n",
    "imdb_corpus = read_corpus()\n",
    "M_co_occurrence, word2ind_co_occurrence = compute_co_occurrence_matrix(imdb_corpus)\n",
    "M_reduced_co_occurrence = reduce_to_k_dim(M_co_occurrence, k=2)\n",
    "\n",
    "# Rescale (normalize) the rows to make them each of unit-length\n",
    "M_lengths = np.linalg.norm(M_reduced_co_occurrence, axis=1)\n",
    "M_normalized = M_reduced_co_occurrence / M_lengths[:, np.newaxis] # broadcasting\n",
    "\n",
    "words = ['movie', 'book', 'mysterious', 'story', 'fascinating', 'good', 'interesting', 'large', 'massive', 'huge']\n",
    "\n",
    "plot_embeddings(M_normalized, word2ind_co_occurrence, words)"
   ]
  },
  {
   "cell_type": "markdown",
   "metadata": {
    "id": "RtOd40JTSSuE"
   },
   "source": [
    "**Verify that your figure matches \"question_1.5.png\" in the assignment zip. If not, use the figure in \"question_1.5.png\" to answer the next two questions.**"
   ]
  },
  {
   "cell_type": "markdown",
   "metadata": {
    "id": "ciXWGMvRSSuE"
   },
   "source": [
    "a. Find at least two groups of words that cluster together in 2-dimensional embedding space. Give an explanation for each cluster you observe."
   ]
  },
  {
   "cell_type": "markdown",
   "metadata": {
    "id": "fLU7o3HESSuF"
   },
   "source": [
    "#### <font color=\"red\">Write your answer here.</font>\n",
    "\n",
    "1. move, book (nouns)\n",
    "2. good, fascinating (adjectives with positive connotation)"
   ]
  },
  {
   "cell_type": "markdown",
   "metadata": {
    "id": "3H-tyA9RSSuF"
   },
   "source": [
    "b. What doesn't cluster together that you might think should have? Describe at least two examples."
   ]
  },
  {
   "cell_type": "markdown",
   "metadata": {
    "id": "3NG2j9J4SSuG"
   },
   "source": [
    "#### <font color=\"red\">Write your answer here.</font>\n",
    "\n",
    "huge, large, massive, which all describe something imposing in size, semantically."
   ]
  },
  {
   "cell_type": "markdown",
   "metadata": {
    "id": "_h0OzAaRSSuI"
   },
   "source": [
    "## Part 2: Prediction-Based Word Vectors (15 points)\n",
    "\n",
    "As discussed in class, more recently prediction-based word vectors have demonstrated better performance, such as word2vec and GloVe (which also utilizes the benefit of counts). Here, we shall explore the embeddings produced by GloVe. Please revisit the class notes and lecture slides for more details on the word2vec and GloVe algorithms. If you're feeling adventurous, challenge yourself and try reading [GloVe's original paper](https://nlp.stanford.edu/pubs/glove.pdf).\n",
    "\n",
    "Then run the following cells to load the GloVe vectors into memory. **Note**: If this is your first time to run these cells, i.e. download the embedding model, it will take a couple minutes to run. If you've run these cells before, rerunning them will load the model without redownloading it, which will take about 1 to 2 minutes."
   ]
  },
  {
   "cell_type": "code",
   "execution_count": 13,
   "metadata": {
    "colab": {
     "base_uri": "https://localhost:8080/"
    },
    "id": "l3kwvdksSSuI",
    "outputId": "736a4672-4b59-4c2e-d6e6-b16e4548db30"
   },
   "outputs": [
    {
     "name": "stdout",
     "output_type": "stream",
     "text": [
      "Loaded vocab size 400000\n"
     ]
    }
   ],
   "source": [
    "def load_embedding_model():\n",
    "    \"\"\" Load GloVe Vectors\n",
    "        Return:\n",
    "            wv_from_bin: All 400000 embeddings, each length 200\n",
    "    \"\"\"\n",
    "    import gensim.downloader as api\n",
    "    wv_from_bin = api.load(\"glove-wiki-gigaword-200\")\n",
    "    print(\"Loaded vocab size %i\" % len(list(wv_from_bin.index_to_key)))\n",
    "    return wv_from_bin\n",
    "wv_from_bin = load_embedding_model()"
   ]
  },
  {
   "cell_type": "markdown",
   "metadata": {
    "id": "egIeG1RTSSuK"
   },
   "source": [
    "#### Note: If you are receiving a \"reset by peer\" error, rerun the cell to restart the download. "
   ]
  },
  {
   "cell_type": "markdown",
   "metadata": {
    "id": "rH9gWJWpSSuL"
   },
   "source": [
    "### Reducing dimensionality of Word Embeddings\n",
    "Let's directly compare the GloVe embeddings to those of the co-occurrence matrix. In order to avoid running out of memory, we will work with a sample of 40000 GloVe vectors instead.\n",
    "Run the following cells to:\n",
    "\n",
    "1. Put 40000 Glove vectors into a matrix M\n",
    "2. Run `reduce_to_k_dim` (your Truncated SVD function) to reduce the vectors from 200-dimensional to 2-dimensional."
   ]
  },
  {
   "cell_type": "code",
   "execution_count": 14,
   "metadata": {
    "id": "0PROUu_-SSuL"
   },
   "outputs": [],
   "source": [
    "def get_matrix_of_vectors(wv_from_bin, required_words):\n",
    "    \"\"\" Put the GloVe vectors into a matrix M.\n",
    "        Param:\n",
    "            wv_from_bin: KeyedVectors object; the 400000 GloVe vectors loaded from file\n",
    "        Return:\n",
    "            M: numpy matrix shape (num words, 200) containing the vectors\n",
    "            word2ind: dictionary mapping each word to its row number in M\n",
    "    \"\"\"\n",
    "    import random\n",
    "    words = list(wv_from_bin.index_to_key)\n",
    "    print(\"Shuffling words ...\")\n",
    "    random.seed(225)\n",
    "    random.shuffle(words)\n",
    "    print(\"Putting %i words into word2ind and matrix M...\" % len(words))\n",
    "    word2ind = {}\n",
    "    M = []\n",
    "    curInd = 0\n",
    "    for w in words:\n",
    "        try:\n",
    "            M.append(wv_from_bin.get_vector(w))\n",
    "            word2ind[w] = curInd\n",
    "            curInd += 1\n",
    "        except KeyError:\n",
    "            continue\n",
    "    for w in required_words:\n",
    "        if w in words:\n",
    "            continue\n",
    "        try:\n",
    "            M.append(wv_from_bin.get_vector(w))\n",
    "            word2ind[w] = curInd\n",
    "            curInd += 1\n",
    "        except KeyError:\n",
    "            continue\n",
    "    M = np.stack(M)\n",
    "    print(\"Done.\")\n",
    "    return M, word2ind"
   ]
  },
  {
   "cell_type": "code",
   "execution_count": 15,
   "metadata": {
    "colab": {
     "base_uri": "https://localhost:8080/"
    },
    "id": "cpgM0M-hSSuM",
    "outputId": "b0989be9-8e11-45d8-8ba9-47297a990760"
   },
   "outputs": [
    {
     "name": "stdout",
     "output_type": "stream",
     "text": [
      "Shuffling words ...\n",
      "Putting 400000 words into word2ind and matrix M...\n",
      "Done.\n",
      "Running Truncated SVD over 400000 words...\n",
      "Done.\n"
     ]
    }
   ],
   "source": [
    "# -----------------------------------------------------------------\n",
    "# Run Cell to Reduce 200-Dimensional Word Embeddings to k Dimensions\n",
    "# Note: This should be quick to run\n",
    "# -----------------------------------------------------------------\n",
    "M, word2ind = get_matrix_of_vectors(wv_from_bin, words)\n",
    "M_reduced = reduce_to_k_dim(M, k=2)\n",
    "\n",
    "# Rescale (normalize) the rows to make them each of unit-length\n",
    "M_lengths = np.linalg.norm(M_reduced, axis=1)\n",
    "M_reduced_normalized = M_reduced / M_lengths[:, np.newaxis] # broadcasting"
   ]
  },
  {
   "cell_type": "markdown",
   "metadata": {
    "id": "8_46FYMJSSuN"
   },
   "source": [
    "**Note: If you are receiving out of memory issues on your local machine, try closing other applications to free more memory on your device. You may want to try restarting your machine so that you can free up extra memory. Then immediately run the jupyter notebook and see if you can load the word vectors properly. If you still have problems with loading the embeddings onto your local machine after this, please go to office hours or contact course staff.**"
   ]
  },
  {
   "cell_type": "markdown",
   "metadata": {
    "id": "zAFrU8ahSSuO"
   },
   "source": [
    "### Question 2.1: GloVe Plot Analysis [written] (3 points)\n",
    "\n",
    "Run the cell below to plot the 2D GloVe embeddings for `['movie', 'book', 'mysterious', 'story', 'fascinating', 'good', 'interesting', 'large', 'massive', 'huge']`."
   ]
  },
  {
   "cell_type": "code",
   "execution_count": 16,
   "metadata": {
    "colab": {
     "base_uri": "https://localhost:8080/",
     "height": 321
    },
    "id": "9kHRkjz6SSuO",
    "outputId": "fbe0f8af-ea5e-456d-8d75-b9ad0caaa5fc",
    "scrolled": true
   },
   "outputs": [
    {
     "data": {
      "image/png": "[encoded data removed]",
      "text/plain": [
       "<Figure size 1000x500 with 1 Axes>"
      ]
     },
     "metadata": {},
     "output_type": "display_data"
    }
   ],
   "source": [
    "words = ['movie', 'book', 'mysterious', 'story', 'fascinating', 'good', 'interesting', 'large', 'massive', 'huge']\n",
    "\n",
    "plot_embeddings(M_reduced_normalized, word2ind, words)"
   ]
  },
  {
   "cell_type": "markdown",
   "metadata": {},
   "source": [
    "**Verify that your figure matches \"question_2.1.png\" in the assignment zip. If not, use the figure in \"question_2.1.png\" (and the figure in \"question_1.5.png\", if applicable) to answer the next two questions.**"
   ]
  },
  {
   "cell_type": "markdown",
   "metadata": {
    "id": "eOnrMZkzSSuP"
   },
   "source": [
    "a. What is one way the plot is different from the one generated earlier from the co-occurrence matrix? What is one way it's similar?"
   ]
  },
  {
   "cell_type": "markdown",
   "metadata": {
    "id": "5KC4PTQoSSuQ"
   },
   "source": [
    "#### <font color=\"red\">Write your answer here.</font>\n",
    "\n",
    "Difference:\n",
    "\n",
    "1. massive, large, huge are much closer here.\n",
    "2. fascinating is far away from good now.\n",
    "3. mysterious and interesting are almost the same here.\n",
    "\n",
    "Similarity:\n",
    "\n",
    "book, story, movie, these are still relatively close.\n"
   ]
  },
  {
   "cell_type": "markdown",
   "metadata": {
    "id": "bNDY5puZSSuQ"
   },
   "source": [
    "b. Why might the GloVe plot (question_2.1.png) differ from the plot generated earlier from the co-occurrence matrix (question_1.5.png)?"
   ]
  },
  {
   "cell_type": "markdown",
   "metadata": {
    "id": "o-cWAvi8SSuR"
   },
   "source": [
    "#### <font color=\"red\">Write your answer here.</font>\n",
    "\n",
    "The dimensions we are keeping in each way perhaps represent features differently."
   ]
  },
  {
   "cell_type": "markdown",
   "metadata": {
    "id": "nA8oIbjjSSuS"
   },
   "source": [
    "### Cosine Similarity\n",
    "Now that we have word vectors, we need a way to quantify the similarity between individual words, according to these vectors. One such metric is cosine-similarity. We will be using this to find words that are \"close\" and \"far\" from one another.\n",
    "\n",
    "We can think of n-dimensional vectors as points in n-dimensional space. If we take this perspective [L1](http://mathworld.wolfram.com/L1-Norm.html) and [L2](http://mathworld.wolfram.com/L2-Norm.html) Distances help quantify the amount of space \"we must travel\" to get between these two points. Another approach is to examine the angle between two vectors. From trigonometry we know that:\n",
    "\n",
    "<img src=\"./imgs/inner_product.png\" width=20% style=\"float: center;\"></img>\n",
    "\n",
    "Instead of computing the actual angle, we can leave the similarity in terms of $similarity = cos(\\Theta)$. Formally the [Cosine Similarity](https://en.wikipedia.org/wiki/Cosine_similarity) $s$ between two vectors $p$ and $q$ is defined as:\n",
    "\n",
    "$$s = \\frac{p \\cdot q}{||p|| ||q||}, \\textrm{ where } s \\in [-1, 1] $$ "
   ]
  },
  {
   "cell_type": "markdown",
   "metadata": {
    "id": "sFfCOLUsSSuS"
   },
   "source": [
    "### Question 2.2: Words with Multiple Meanings (1.5 points) [code + written] \n",
    "Polysemes and homonyms are words that have more than one meaning (see this [wiki page](https://en.wikipedia.org/wiki/Polysemy) to learn more about the difference between polysemes and homonyms ). Find a word with *at least two different meanings* such that the top-10 most similar words (according to cosine similarity) contain related words from *both* meanings. For example, \"leaves\" has both \"go_away\" and \"a_structure_of_a_plant\" meaning in the top 10, and \"scoop\" has both \"handed_waffle_cone\" and \"lowdown\". You will probably need to try several polysemous or homonymic words before you find one. \n",
    "\n",
    "Please state the word you discover and the multiple meanings that occur in the top 10. Why do you think many of the polysemous or homonymic words you tried didn't work (i.e. the top-10 most similar words only contain **one** of the meanings of the words)?\n",
    "\n",
    "**Note**: You should use the `wv_from_bin.most_similar(word)` function to get the top 10 most similar words. This function ranks all other words in the vocabulary with respect to their cosine similarity to the given word. For further assistance, please check the __[GenSim documentation](https://radimrehurek.com/gensim/models/keyedvectors.html#gensim.models.keyedvectors.FastTextKeyedVectors.most_similar)__."
   ]
  },
  {
   "cell_type": "code",
   "execution_count": 17,
   "metadata": {
    "colab": {
     "base_uri": "https://localhost:8080/"
    },
    "id": "ZAr09U-xSSuT",
    "outputId": "da8adff7-c61e-43a0-8f4b-66084b4a66b8"
   },
   "outputs": [
    {
     "name": "stdout",
     "output_type": "stream",
     "text": [
      "fry: 0.6471\n",
      "cooked: 0.6411\n",
      "cooking: 0.6034\n",
      "onions: 0.5539\n",
      "cooks: 0.5531\n",
      "lamb: 0.5419\n",
      "bacon: 0.5407\n",
      "baker: 0.5334\n",
      "simmer: 0.5270\n",
      "chicken: 0.5264\n"
     ]
    }
   ],
   "source": [
    "# ------------------\n",
    "# Write your implementation here.\n",
    "# Check the \"most similar words\", using the default \"cosine similarity\" measure.\n",
    "most_similar_keys = wv_from_bin.most_similar(positive=['cook'])\n",
    "for key, similarity in most_similar_keys[0:10]:\n",
    "    print(f\"{key}: {similarity:.4f}\")\n",
    "# ------------------"
   ]
  },
  {
   "cell_type": "markdown",
   "metadata": {
    "id": "VdQ018tjSSuT"
   },
   "source": [
    "#### <font color=\"red\">Write your answer here.</font>\n",
    "\n",
    "- works: matter, bear, cook\n",
    "- didn't work: die, wind, spring, object, subject, contract\n",
    "\n",
    "Maybe for those didn't work, their most common meaning is so dominantly used, that the top 10 similar words only contained it solely."
   ]
  },
  {
   "cell_type": "markdown",
   "metadata": {
    "id": "VfeW-eK9SSuU"
   },
   "source": [
    "### Question 2.3: Synonyms & Antonyms (2 points) [code + written] \n",
    "\n",
    "When considering Cosine Similarity, it's often more convenient to think of Cosine Distance, which is simply 1 - Cosine Similarity.\n",
    "\n",
    "Find three words $(w_1,w_2,w_3)$ where $w_1$ and $w_2$ are synonyms and $w_1$ and $w_3$ are antonyms, but Cosine Distance $(w_1,w_3) <$ Cosine Distance $(w_1,w_2)$. \n",
    "\n",
    "As an example, $w_1$=\"happy\" is closer to $w_3$=\"sad\" than to $w_2$=\"cheerful\". Please find a different example that satisfies the above. Once you have found your example, please give a possible explanation for why this counter-intuitive result may have happened.\n",
    "\n",
    "You should use the the `wv_from_bin.distance(w1, w2)` function here in order to compute the cosine distance between two words. Please see the __[GenSim documentation](https://radimrehurek.com/gensim/models/keyedvectors.html#gensim.models.keyedvectors.FastTextKeyedVectors.distance)__ for further assistance."
   ]
  },
  {
   "cell_type": "code",
   "execution_count": 18,
   "metadata": {
    "colab": {
     "base_uri": "https://localhost:8080/"
    },
    "id": "bwlpPjpHSSuV",
    "outputId": "8c983677-b3d1-4423-d31c-da566cb522a5"
   },
   "outputs": [
    {
     "name": "stdout",
     "output_type": "stream",
     "text": [
      "w1: vertical\n",
      "w2: horizontal\n",
      "w3: upright\n",
      "|w1 - w2|: 0.1074\n",
      "|w1 - w3|: 0.5768\n"
     ]
    }
   ],
   "source": [
    "# ------------------\n",
    "# Write your implementation here.\n",
    "w1 = \"vertical\"\n",
    "w2 = \"horizontal\"\n",
    "w3 = \"upright\"\n",
    "print(\"w1:\", w1)\n",
    "print(\"w2:\", w2)\n",
    "print(\"w3:\", w3)\n",
    "print(f\"|w1 - w2|: {wv_from_bin.distance(w1, w2):.4f}\")\n",
    "print(f\"|w1 - w3|: {wv_from_bin.distance(w1, w3):.4f}\")\n",
    "# ------------------"
   ]
  },
  {
   "cell_type": "markdown",
   "metadata": {
    "id": "PeIHjTFMSSuV"
   },
   "source": [
    "#### <font color=\"red\">Write your answer here.</font>\n",
    "\n",
    "1. Antonyms here used are more like just a pair when used for contrast: vertical-horizontal, happy-sad, while the synonyms don't quite used together.\n",
    "\n",
    "2. Maybe the synonyms still have other meanings which can be more commonly used, or the common meaning is used generally under different situations.\n",
    "\n",
    "Utilizing code in Question 2.2:\n",
    "\n",
    "vertical:\n",
    "```\n",
    "horizontal: 0.8926\n",
    "vertically: 0.6402\n",
    "horizontally: 0.5989\n",
    "width: 0.5616\n",
    "lateral: 0.5563\n",
    "perpendicular: 0.5549\n",
    "angle: 0.5518\n",
    "shaft: 0.5518\n",
    "diameter: 0.5455\n",
    "curved: 0.5445\n",
    "```\n",
    "\n",
    "horizontal:\n",
    "```\n",
    "vertical: 0.8926\n",
    "horizontally: 0.6641\n",
    "vertically: 0.6391\n",
    "diagonal: 0.6179\n",
    "stabilizer: 0.5976\n",
    "perpendicular: 0.5886\n",
    "width: 0.5856\n",
    "stabiliser: 0.5626\n",
    "angle: 0.5596\n",
    "curved: 0.5588\n",
    "```\n",
    "\n",
    "upright:\n",
    "```\n",
    "sturdy: 0.5235\n",
    "legs: 0.4869\n",
    "tall: 0.4795\n",
    "erect: 0.4601\n",
    "posture: 0.4579\n",
    "horizontally: 0.4477\n",
    "pianos: 0.4373\n",
    "foot: 0.4328\n",
    "pedal: 0.4273\n",
    "horizontal: 0.4267\n",
    "``` "
   ]
  },
  {
   "cell_type": "markdown",
   "metadata": {
    "id": "ZxIDq26zSSuW"
   },
   "source": [
    "### Question 2.4: Analogies with Word Vectors [written] (1.5 points)\n",
    "Word vectors have been shown to *sometimes* exhibit the ability to solve analogies. \n",
    "\n",
    "As an example, for the analogy \"man : grandfather :: woman : x\" (read: man is to grandfather as woman is to x), what is x?\n",
    "\n",
    "In the cell below, we show you how to use word vectors to find x using the `most_similar` function from the __[GenSim documentation](https://radimrehurek.com/gensim/models/keyedvectors.html#gensim.models.keyedvectors.KeyedVectors.most_similar)__. The function finds words that are most similar to the words in the `positive` list and most dissimilar from the words in the `negative` list (while omitting the input words, which are often the most similar; see [this paper](https://www.aclweb.org/anthology/N18-2039.pdf)). The answer to the analogy will have the highest cosine similarity (largest returned numerical value)."
   ]
  },
  {
   "cell_type": "code",
   "execution_count": 19,
   "metadata": {
    "colab": {
     "base_uri": "https://localhost:8080/"
    },
    "id": "u0pC7H4VSSuY",
    "outputId": "a2e3a0c1-2621-4def-f00b-f3de583f86bf"
   },
   "outputs": [
    {
     "name": "stdout",
     "output_type": "stream",
     "text": [
      "[('grandmother', 0.7608445286750793),\n",
      " ('granddaughter', 0.7200808525085449),\n",
      " ('daughter', 0.7168302536010742),\n",
      " ('mother', 0.7151536345481873),\n",
      " ('niece', 0.7005682587623596),\n",
      " ('father', 0.6659887433052063),\n",
      " ('aunt', 0.6623408794403076),\n",
      " ('grandson', 0.6618767976760864),\n",
      " ('grandparents', 0.644661009311676),\n",
      " ('wife', 0.6445354223251343)]\n"
     ]
    }
   ],
   "source": [
    "# Run this cell to answer the analogy -- man : grandfather :: woman : x\n",
    "pprint.pprint(wv_from_bin.most_similar(positive=['woman', 'grandfather'], negative=['man']))"
   ]
  },
  {
   "cell_type": "markdown",
   "metadata": {
    "id": "XVv8I9WwSSuZ"
   },
   "source": [
    "Let $m$, $g$, $w$, and $x$ denote the word vectors for `man`, `grandfather`, `woman`, and the answer, respectively. Using **only** vectors $m$, $g$, $w$, and the vector arithmetic operators $+$ and $-$ in your answer, what is the expression in which we are maximizing cosine similarity with $x$?\n",
    "\n",
    "Hint: Recall that word vectors are simply multi-dimensional vectors that represent a word. It might help to draw out a 2D example using arbitrary locations of each vector. Where would `man` and `woman` lie in the coordinate plane relative to `grandfather` and the answer?"
   ]
  },
  {
   "cell_type": "markdown",
   "metadata": {
    "id": "KlUKBqtHSSuZ"
   },
   "source": [
    "#### <font color=\"red\">Write your answer here.</font>\n",
    "\n",
    "$x = w + g - m$"
   ]
  },
  {
   "cell_type": "markdown",
   "metadata": {
    "id": "2rRgMca9SSua"
   },
   "source": [
    "### Question 2.5: Finding Analogies [code + written]  (1.5 points)\n",
    "a. For the previous example, it's clear that \"grandmother\" completes the analogy. But give an intuitive explanation as to why the `most_similar` function gives us words like \"granddaughter\", \"daughter\", or \"mother?"
   ]
  },
  {
   "cell_type": "markdown",
   "metadata": {
    "id": "WgYQXazQSSua"
   },
   "source": [
    "#### <font color=\"red\">Write your answer here.</font>\n",
    "\n",
    "Intuitively the analogy means some \"female blood relatives in a direct line of descent\", which naturally leads to these answers."
   ]
  },
  {
   "cell_type": "markdown",
   "metadata": {
    "id": "p9aAUXEISSub"
   },
   "source": [
    "b. Find an example of analogy that holds according to these vectors (i.e. the intended word is ranked top). In your solution please state the full analogy in the form x:y :: a:b. If you believe the analogy is complicated, explain why the analogy holds in one or two sentences.\n",
    "\n",
    "**Note**: You may have to try many analogies to find one that works!"
   ]
  },
  {
   "cell_type": "code",
   "execution_count": 20,
   "metadata": {
    "id": "CRvYK2xifpq7"
   },
   "outputs": [
    {
     "name": "stdout",
     "output_type": "stream",
     "text": [
      "programmer : driver :: computer : car\n"
     ]
    }
   ],
   "source": [
    "# For example: x, y, a, b = (\"\", \"\", \"\", \"\")\n",
    "# ------------------\n",
    "# Write your implementation here.\n",
    "# x = \"p...\"\n",
    "# a = \"boy\"\n",
    "# y = \"v...\"\n",
    "# b = \"girl\"\n",
    "x = \"programmer\"\n",
    "a = \"computer\"\n",
    "y = \"driver\"\n",
    "b = \"car\"\n",
    "\n",
    "print(x, \":\", y, \"::\", a, \":\", wv_from_bin.most_similar(positive=[a, y], negative=[x])[0][0])\n",
    "# ------------------\n",
    "\n",
    "# Test the solution\n",
    "assert wv_from_bin.most_similar(positive=[a, y], negative=[x])[0][0] == b"
   ]
  },
  {
   "cell_type": "markdown",
   "metadata": {
    "id": "K3QlPqAwSSub"
   },
   "source": [
    "#### <font color=\"red\">Write your answer here.</font>\n",
    "\n",
    "A programmer uses a computer as the means of production, while a driver drives a car for subsistence."
   ]
  },
  {
   "cell_type": "markdown",
   "metadata": {
    "id": "SwgcEywwSSuc"
   },
   "source": [
    "### Question 2.6: Incorrect Analogy [code + written] (1.5 points)\n",
    "a. Below, we expect to see the intended analogy \"hand : glove :: foot : **sock**\", but we see an unexpected result instead. Give a potential reason as to why this particular analogy turned out the way it did?"
   ]
  },
  {
   "cell_type": "code",
   "execution_count": 21,
   "metadata": {
    "colab": {
     "base_uri": "https://localhost:8080/"
    },
    "id": "m-ykWoJoSSuc",
    "outputId": "60fa3812-3e62-429e-c309-349463c75f9e"
   },
   "outputs": [
    {
     "name": "stdout",
     "output_type": "stream",
     "text": [
      "[('45,000-square', 0.4922032654285431),\n",
      " ('15,000-square', 0.4649604558944702),\n",
      " ('10,000-square', 0.4544755816459656),\n",
      " ('6,000-square', 0.44975775480270386),\n",
      " ('3,500-square', 0.444133460521698),\n",
      " ('700-square', 0.44257497787475586),\n",
      " ('50,000-square', 0.4356396794319153),\n",
      " ('3,000-square', 0.43486514687538147),\n",
      " ('30,000-square', 0.4330596923828125),\n",
      " ('footed', 0.43236875534057617)]\n"
     ]
    }
   ],
   "source": [
    "pprint.pprint(wv_from_bin.most_similar(positive=['foot', 'glove'], negative=['hand']))"
   ]
  },
  {
   "cell_type": "markdown",
   "metadata": {
    "id": "zn4ruS8MSSud"
   },
   "source": [
    "#### <font color=\"red\">Write your answer here.</font>\n",
    "\n",
    "Maybe when minusing 'hand', the meaning of 'foot' as ft gets zoomed in? "
   ]
  },
  {
   "cell_type": "markdown",
   "metadata": {
    "id": "D1gHyZt0SSud"
   },
   "source": [
    "b. Find another example of analogy that does *not* hold according to these vectors. In your solution, state the intended analogy in the form x:y :: a:b, and state the **incorrect** value of b according to the word vectors (in the previous example, this would be **'45,000-square'**)."
   ]
  },
  {
   "cell_type": "code",
   "execution_count": 22,
   "metadata": {
    "id": "ms-DTC8_ftiA"
   },
   "outputs": [
    {
     "name": "stdout",
     "output_type": "stream",
     "text": [
      "intended: sheep : cow :: shepherd : cowherd\n",
      "incorrect: sheep : cow :: shepherd : mad\n",
      "[('mad', 0.44959503412246704),\n",
      " ('mary', 0.40039998292922974),\n",
      " ('astronaut', 0.3819034695625305),\n",
      " ('margaret', 0.37684449553489685),\n",
      " ('roberts', 0.37462398409843445),\n",
      " ('kelly', 0.3696500062942505),\n",
      " ('wilson', 0.36807218194007874),\n",
      " ('edell', 0.36744338274002075),\n",
      " ('moon', 0.36416441202163696),\n",
      " ('cybill', 0.36355480551719666)]\n"
     ]
    }
   ],
   "source": [
    "# For example: x, y, a, b = (\"\", \"\", \"\", \"\")\n",
    "# ------------------\n",
    "# Write your implementation here.\n",
    "x = \"sheep\"\n",
    "a = \"shepherd\"\n",
    "y = \"cow\"\n",
    "b = \"cowherd\"\n",
    "print(\"intended:\", x, \":\", y, \"::\", a, \":\", b)\n",
    "print(\"incorrect:\", x, \":\", y, \"::\", a, \":\", wv_from_bin.most_similar(positive=[a, y], negative=[x])[0][0])\n",
    "# ------------------\n",
    "pprint.pprint(wv_from_bin.most_similar(positive=[a, y], negative=[x]))\n",
    "assert wv_from_bin.most_similar(positive=[a, y], negative=[x])[0][0] != b"
   ]
  },
  {
   "cell_type": "markdown",
   "metadata": {
    "id": "c4x0EHjeSSue"
   },
   "source": [
    "#### <font color=\"red\">Write your answer here.</font>\n",
    "\n",
    "shepherd herds shep, cowherd herds cattle. No idea why it would associate \"shepherd\" - \"sheep\" + \"cow\" with \"mad\"."
   ]
  },
  {
   "cell_type": "markdown",
   "metadata": {
    "id": "yvlycXN-SSuf"
   },
   "source": [
    "### Question 2.7: Guided Analysis of Bias in Word Vectors [written] (1 point)\n",
    "\n",
    "It's important to be cognizant of the biases (gender, race, sexual orientation etc.) implicit in our word embeddings. Bias can be dangerous because it can reinforce stereotypes through applications that employ these models.\n",
    "\n",
    "Run the cell below, to examine (a) which terms are most similar to \"man\" and \"profession\" and most dissimilar to \"woman\" and (b) which terms are most similar to \"woman\" and \"profession\" and most dissimilar to \"man\". Point out the difference between the list of female-associated words and the list of male-associated words, and explain how it is reflecting gender bias."
   ]
  },
  {
   "cell_type": "code",
   "execution_count": 23,
   "metadata": {
    "colab": {
     "base_uri": "https://localhost:8080/"
    },
    "id": "XggWA4MhSSuf",
    "outputId": "534a694b-f4fa-479e-9e7c-12b17db3abb8"
   },
   "outputs": [
    {
     "name": "stdout",
     "output_type": "stream",
     "text": [
      "[('reputation', 0.5250176787376404),\n",
      " ('professions', 0.5178037881851196),\n",
      " ('skill', 0.49046966433525085),\n",
      " ('skills', 0.49005505442619324),\n",
      " ('ethic', 0.4897659420967102),\n",
      " ('business', 0.4875852167606354),\n",
      " ('respected', 0.485920250415802),\n",
      " ('practice', 0.482104629278183),\n",
      " ('regarded', 0.4778572618961334),\n",
      " ('life', 0.4760662019252777)]\n",
      "\n",
      "[('professions', 0.5957457423210144),\n",
      " ('practitioner', 0.49884122610092163),\n",
      " ('teaching', 0.48292139172554016),\n",
      " ('nursing', 0.48211804032325745),\n",
      " ('vocation', 0.4788965880870819),\n",
      " ('teacher', 0.47160351276397705),\n",
      " ('practicing', 0.46937814354896545),\n",
      " ('educator', 0.46524327993392944),\n",
      " ('physicians', 0.4628995358943939),\n",
      " ('professionals', 0.4601394236087799)]\n"
     ]
    }
   ],
   "source": [
    "# Run this cell\n",
    "# Here `positive` indicates the list of words to be similar to and `negative` indicates the list of words to be\n",
    "# most dissimilar from.\n",
    "\n",
    "pprint.pprint(wv_from_bin.most_similar(positive=['man', 'profession'], negative=['woman']))\n",
    "print()\n",
    "pprint.pprint(wv_from_bin.most_similar(positive=['woman', 'profession'], negative=['man']))"
   ]
  },
  {
   "cell_type": "markdown",
   "metadata": {
    "id": "x4g6KbsYSSuh"
   },
   "source": [
    "#### <font color=\"red\">Write your answer here.</font>\n",
    "\n",
    "man: reputation, skill, ethic, respected, regarded, life. Seems more associated with work ethic or decency.\n",
    "\n",
    "woman: practitioner, teaching, nursing, teacher, educator, physicians. Either medical or educational jobs.\n",
    "\n",
    "Men are asked to behave according to some norms and yet still need to be adventurous (business), women are asked to choose jobs from being a nurse or being a teacher. Gender bias or social stereotype.\n",
    "\n",
    "practitioner:\n",
    "```\n",
    "practitioners: 0.7139\n",
    "physician: 0.5992\n",
    "nurse: 0.5730\n",
    "therapist: 0.5404\n",
    "practicing: 0.5174\n",
    "practising: 0.5134\n",
    "profession: 0.5094\n",
    "clinician: 0.4804\n",
    "psychotherapist: 0.4779\n",
    "ayurvedic: 0.4775\n",
    "```"
   ]
  },
  {
   "cell_type": "markdown",
   "metadata": {
    "id": "LxJmnS6lSSui"
   },
   "source": [
    "### Question 2.8: Independent Analysis of Bias in Word Vectors [code + written]  (1 point)\n",
    "\n",
    "Use the `most_similar` function to find another pair of analogies that demonstrates some bias is exhibited by the vectors. Please briefly explain the example of bias that you discover."
   ]
  },
  {
   "cell_type": "code",
   "execution_count": 24,
   "metadata": {
    "colab": {
     "base_uri": "https://localhost:8080/"
    },
    "id": "PZoDheIfSSui",
    "outputId": "f45fef83-ee36-4ef1-b970-775c3b40c515"
   },
   "outputs": [
    {
     "name": "stdout",
     "output_type": "stream",
     "text": [
      "result: germany : soviet :: hitler : stalin\n",
      "result: germany : russia :: hitler : stalin\n",
      "result: germany : indonesia :: hitler : sukarno\n",
      "result: germany : germany :: hitler : adolf\n",
      "result: germany : chile :: hitler : allende\n",
      "result: germany : venezuela :: hitler : chavez\n",
      "result: germany : cuba :: hitler : fidel\n",
      "result: germany : khmer :: hitler : rouge\n",
      "result: germany : italy :: hitler : mussolini\n",
      "result: germany : egypt :: hitler : egyptian\n",
      "result: germany : palestine :: hitler : zionist\n",
      "result: germany : israel :: hitler : arafat\n",
      "result: germany : china :: hitler : chinese\n",
      "result: germany : vietnam :: hitler : vietnamese\n",
      "result: germany : korea :: hitler : pyongyang\n",
      "result: germany : france :: hitler : napoleon\n",
      "result: germany : japan :: hitler : japanese\n",
      "\n",
      "result: chile : soviet :: pinochet : kgb\n",
      "result: chile : russia :: pinochet : kremlin\n",
      "result: chile : indonesia :: pinochet : suharto\n",
      "result: chile : germany :: pinochet : berlin\n",
      "result: chile : chile :: pinochet : augusto\n"
     ]
    },
    {
     "name": "stdout",
     "output_type": "stream",
     "text": [
      "result: chile : venezuela :: pinochet : chavez\n",
      "result: chile : cuba :: pinochet : castro\n",
      "result: chile : khmer :: pinochet : rouge\n",
      "result: chile : italy :: pinochet : berlusconi\n",
      "result: chile : egypt :: pinochet : mubarak\n",
      "result: chile : palestine :: pinochet : palestinian\n",
      "result: chile : israel :: pinochet : palestinian\n",
      "result: chile : china :: pinochet : beijing\n",
      "result: chile : vietnam :: pinochet : vietnamese\n",
      "result: chile : korea :: pinochet : pyongyang\n",
      "result: chile : france :: pinochet : paris\n",
      "result: chile : japan :: pinochet : japanese\n",
      "\n",
      "result: france : soviet :: robespierre : bolshevik\n",
      "result: france : russia :: robespierre : tsardom\n",
      "result: france : indonesia :: robespierre : tisin\n",
      "result: france : germany :: robespierre : maximilien\n",
      "result: france : chile :: robespierre : maximilien\n",
      "result: france : venezuela :: robespierre : chávez\n",
      "result: france : cuba :: robespierre : bermoy\n",
      "result: france : khmer :: robespierre : rouge\n",
      "result: france : italy :: robespierre : sejanus\n",
      "result: france : egypt :: robespierre : el-sheikh\n",
      "result: france : palestine :: robespierre : dflp\n",
      "result: france : israel :: robespierre : hamas\n",
      "result: france : china :: robespierre : jiangxi\n",
      "result: france : vietnam :: robespierre : maximilien\n",
      "result: france : korea :: robespierre : dprk\n",
      "result: france : france :: robespierre : maximilien\n",
      "result: france : japan :: robespierre : nakagawa\n",
      "\n",
      "result: france : soviet :: jacobin : bolshevik\n",
      "result: france : russia :: jacobin : bolshevik\n",
      "result: france : indonesia :: jacobin : sukarno\n",
      "result: france : germany :: jacobin : kpd\n",
      "result: france : chile :: jacobin : colo-colo\n",
      "result: france : venezuela :: jacobin : venezuelan\n",
      "result: france : cuba :: jacobin : cuban\n",
      "result: france : khmer :: jacobin : ba'athist\n",
      "result: france : italy :: jacobin : risorgimento\n",
      "result: france : egypt :: jacobin : ismaily\n",
      "result: france : palestine :: jacobin : dflp\n",
      "result: france : israel :: jacobin : zionist\n",
      "result: france : china :: jacobin : tongmenghui\n",
      "result: france : vietnam :: jacobin : tongmenghui\n",
      "result: france : korea :: jacobin : chunma\n",
      "result: france : france :: jacobin : jacobins\n",
      "result: france : japan :: jacobin : salmagundi\n",
      "\n",
      "result: russia : soviet :: lenin : stalin\n",
      "result: russia : russia :: lenin : stalin\n",
      "result: russia : indonesia :: lenin : sukarno\n",
      "result: russia : germany :: lenin : hitler\n",
      "result: russia : chile :: lenin : chilean\n",
      "result: russia : venezuela :: lenin : venezuelan\n",
      "result: russia : cuba :: lenin : castro\n",
      "result: russia : khmer :: lenin : rouge\n",
      "result: russia : italy :: lenin : mussolini\n",
      "result: russia : egypt :: lenin : gamal\n",
      "result: russia : palestine :: lenin : dflp\n",
      "result: russia : israel :: lenin : jerusalem\n",
      "result: russia : china :: lenin : mao\n",
      "result: russia : vietnam :: lenin : minh\n",
      "result: russia : korea :: lenin : stalin\n",
      "result: russia : france :: lenin : gaulle\n",
      "result: russia : japan :: lenin : japanese\n",
      "\n",
      "result: russia : soviet :: stalin : khrushchev\n",
      "result: russia : russia :: stalin : lenin\n",
      "result: russia : indonesia :: stalin : sukarno\n",
      "result: russia : germany :: stalin : hitler\n",
      "result: russia : chile :: stalin : allende\n",
      "result: russia : venezuela :: stalin : trotsky\n",
      "result: russia : cuba :: stalin : fidel\n",
      "result: russia : khmer :: stalin : rouge\n",
      "result: russia : italy :: stalin : mussolini\n",
      "result: russia : egypt :: stalin : hitler\n",
      "result: russia : palestine :: stalin : hitler\n",
      "result: russia : israel :: stalin : hitler\n",
      "result: russia : china :: stalin : mao\n",
      "result: russia : vietnam :: stalin : vietnamese\n",
      "result: russia : korea :: stalin : stalinist\n",
      "result: russia : france :: stalin : hitler\n",
      "result: russia : japan :: stalin : japanese\n",
      "\n"
     ]
    }
   ],
   "source": [
    "# ------------------\n",
    "# Write your implementation here.\n",
    "x = \"germany\"\n",
    "a = \"hitler\"\n",
    "y_list = [\"soviet\", \"russia\", \"indonesia\", \"germany\", \"chile\", \"venezuela\", \"cuba\", \"khmer\", \"italy\", \"egypt\", \"palestine\", \"israel\", \"china\", \"vietnam\", \"korea\", \"france\", \"japan\"]\n",
    "\n",
    "for y in y_list:\n",
    "    print(\"result:\", x, \":\", y, \"::\", a, \":\", wv_from_bin.most_similar(positive=[a, y], negative=[x])[0][0])\n",
    "print()\n",
    "\n",
    "x = \"chile\"\n",
    "a = \"pinochet\"\n",
    "y_list = [\"soviet\", \"russia\", \"indonesia\", \"germany\", \"chile\", \"venezuela\", \"cuba\", \"khmer\", \"italy\", \"egypt\", \"palestine\", \"israel\", \"china\", \"vietnam\", \"korea\", \"france\", \"japan\"]\n",
    "for y in y_list:\n",
    "    print(\"result:\", x, \":\", y, \"::\", a, \":\", wv_from_bin.most_similar(positive=[a, y], negative=[x])[0][0])\n",
    "print()\n",
    "\n",
    "x = \"france\"\n",
    "a = \"robespierre\"\n",
    "y_list = [\"soviet\", \"russia\", \"indonesia\", \"germany\", \"chile\", \"venezuela\", \"cuba\", \"khmer\", \"italy\", \"egypt\", \"palestine\", \"israel\", \"china\", \"vietnam\", \"korea\", \"france\", \"japan\"]\n",
    "\n",
    "for y in y_list:\n",
    "    print(\"result:\", x, \":\", y, \"::\", a, \":\", wv_from_bin.most_similar(positive=[a, y], negative=[x])[0][0])\n",
    "print()\n",
    "\n",
    "x = \"france\"\n",
    "a = \"jacobin\"\n",
    "y_list = [\"soviet\", \"russia\", \"indonesia\", \"germany\", \"chile\", \"venezuela\", \"cuba\", \"khmer\", \"italy\", \"egypt\", \"palestine\", \"israel\", \"china\", \"vietnam\", \"korea\", \"france\", \"japan\"]\n",
    "for y in y_list:\n",
    "    print(\"result:\", x, \":\", y, \"::\", a, \":\", wv_from_bin.most_similar(positive=[a, y], negative=[x])[0][0])\n",
    "print()\n",
    "\n",
    "x = \"russia\"\n",
    "a = \"lenin\"\n",
    "y_list = [\"soviet\", \"russia\", \"indonesia\", \"germany\", \"chile\", \"venezuela\", \"cuba\", \"khmer\", \"italy\", \"egypt\", \"palestine\", \"israel\", \"china\", \"vietnam\", \"korea\", \"france\", \"japan\"]\n",
    "\n",
    "for y in y_list:\n",
    "    print(\"result:\", x, \":\", y, \"::\", a, \":\", wv_from_bin.most_similar(positive=[a, y], negative=[x])[0][0])\n",
    "print()\n",
    "\n",
    "x = \"russia\"\n",
    "a = \"stalin\"\n",
    "y_list = [\"soviet\", \"russia\", \"indonesia\", \"germany\", \"chile\", \"venezuela\", \"cuba\", \"khmer\", \"italy\", \"egypt\", \"palestine\", \"israel\", \"china\", \"vietnam\", \"korea\", \"france\", \"japan\"]\n",
    "\n",
    "for y in y_list:\n",
    "    print(\"result:\", x, \":\", y, \"::\", a, \":\", wv_from_bin.most_similar(positive=[a, y], negative=[x])[0][0])\n",
    "print()\n",
    "# ------------------"
   ]
  },
  {
   "cell_type": "markdown",
   "metadata": {
    "id": "TGOlmtJoSSuj"
   },
   "source": [
    "#### <font color=\"red\">Write your answer here.</font>\n",
    "\n",
    "Seems to be biased towards some real socialist countries... Historical and political biases are quite obvious."
   ]
  },
  {
   "cell_type": "markdown",
   "metadata": {
    "id": "eK2XVWzmSSuk"
   },
   "source": [
    "### Question 2.9: Thinking About Bias [written] (2 points)\n",
    "\n",
    "a. Give one explanation of how bias gets into the word vectors. Briefly describe a real-world example that demonstrates this source of bias. Your real-world example should be focused on word vectors, as opposed to bias in other AI systems (e.g., ChatGPT)."
   ]
  },
  {
   "cell_type": "markdown",
   "metadata": {
    "id": "19pM85fCSSuk"
   },
   "source": [
    "#### <font color=\"red\">Write your answer here.</font>\n",
    "\n",
    "Biases are quite common in daily writing, and the word vectors learn them from biased texts, e.g., if we use texts for political propaganda to learn the word vectors, they surely would fit into those ideological patterns."
   ]
  },
  {
   "cell_type": "markdown",
   "metadata": {
    "id": "ILYqJZ7ASSul"
   },
   "source": [
    "b. What is one method you can use to mitigate bias exhibited by word vectors? Briefly describe a real-world example that demonstrates this method."
   ]
  },
  {
   "cell_type": "markdown",
   "metadata": {
    "id": "dnJaAB7mSSul"
   },
   "source": [
    "\n",
    "#### <font color=\"red\">Write your answer here.</font>\n",
    "\n",
    "Preprocess texts before training: substitute or delete gendered languages, avoid political propaganda texts. "
   ]
  },
  {
   "cell_type": "markdown",
   "metadata": {
    "id": "dzh3eEmZSSum"
   },
   "source": [
    "# <font color=\"blue\"> Submission Instructions</font>\n",
    "\n",
    "1. Click the Save button at the top of the Jupyter Notebook.\n",
    "2. Select Cell -> All Output -> Clear. This will clear all the outputs from all cells (but will keep the content of all cells). \n",
    "2. Select Cell -> Run All. This will run all the cells in order, and will take several minutes.\n",
    "3. Once you've rerun everything, select File -> Download as -> PDF via LaTeX (If you have trouble using \"PDF via LaTex\", you can also save the webpage as pdf. <font color='blue'> Make sure all your solutions especially the coding parts are displayed in the pdf</font>, it's okay if the provided codes get cut off because lines are not wrapped in code cells).\n",
    "4. Look at the PDF file and make sure all your solutions are there, displayed correctly. The PDF is the only thing your graders will see!\n",
    "5. Submit your PDF on Gradescope."
   ]
  }
 ],
 "metadata": {
  "anaconda-cloud": {},
  "colab": {
   "provenance": []
  },
  "kernelspec": {
   "display_name": "Python 3 (ipykernel)",
   "language": "python",
   "name": "python3"
  },
  "language_info": {
   "codemirror_mode": {
    "name": "ipython",
    "version": 3
   },
   "file_extension": ".py",
   "mimetype": "text/x-python",
   "name": "python",
   "nbconvert_exporter": "python",
   "pygments_lexer": "ipython3",
   "version": "3.11.4"
  }
 },
 "nbformat": 4,
 "nbformat_minor": 4
}
